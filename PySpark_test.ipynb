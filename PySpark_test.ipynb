{
  "nbformat": 4,
  "nbformat_minor": 0,
  "metadata": {
    "colab": {
      "name": "PySpark_test.ipynb",
      "provenance": [],
      "collapsed_sections": [],
      "include_colab_link": true
    },
    "kernelspec": {
      "name": "python3",
      "display_name": "Python 3"
    }
  },
  "cells": [
    {
      "cell_type": "markdown",
      "metadata": {
        "id": "view-in-github",
        "colab_type": "text"
      },
      "source": [
        "<a href=\"https://colab.research.google.com/github/OliveraNovovic/pyspark_test/blob/master/PySpark_test.ipynb\" target=\"_parent\"><img src=\"https://colab.research.google.com/assets/colab-badge.svg\" alt=\"Open In Colab\"/></a>"
      ]
    },
    {
      "cell_type": "code",
      "metadata": {
        "id": "-bnE96rgAOjU",
        "colab_type": "code",
        "colab": {}
      },
      "source": [
        "!apt-get install openjdk-8-jdk-headless -qq > /dev/null\n",
        "!wget -q https://www-eu.apache.org/dist/spark/spark-2.4.4/spark-2.4.4-bin-hadoop2.7.tgz\n",
        "!tar xf spark-2.4.4-bin-hadoop2.7.tgz\n",
        "!pip install -q findspark"
      ],
      "execution_count": 0,
      "outputs": []
    },
    {
      "cell_type": "code",
      "metadata": {
        "id": "UvBCQapMB9XC",
        "colab_type": "code",
        "colab": {}
      },
      "source": [
        "import os\n",
        "os.environ[\"JAVA_HOME\"] = \"/usr/lib/jvm/java-8-openjdk-amd64\"\n",
        "os.environ[\"SPARK_HOME\"] = \"/content/spark-2.4.4-bin-hadoop2.7\""
      ],
      "execution_count": 0,
      "outputs": []
    },
    {
      "cell_type": "code",
      "metadata": {
        "id": "KaDMTacsCKQs",
        "colab_type": "code",
        "colab": {}
      },
      "source": [
        "import findspark\n",
        "findspark.init()\n",
        "from pyspark.sql import SparkSession\n",
        "spark = SparkSession.builder.master(\"local[*]\").getOrCreate()"
      ],
      "execution_count": 0,
      "outputs": []
    },
    {
      "cell_type": "code",
      "metadata": {
        "id": "9pNkPf8dGb8d",
        "colab_type": "code",
        "colab": {}
      },
      "source": [
        "from google.colab import files\n",
        "files.upload()"
      ],
      "execution_count": 0,
      "outputs": []
    },
    {
      "cell_type": "code",
      "metadata": {
        "id": "XEZ-UA88l1Nj",
        "colab_type": "code",
        "colab": {}
      },
      "source": [
        "!ls\n"
      ],
      "execution_count": 0,
      "outputs": []
    },
    {
      "cell_type": "code",
      "metadata": {
        "id": "SeKXwOEFHcJ6",
        "colab_type": "code",
        "colab": {}
      },
      "source": [
        "import pandas as pd\n",
        "test_pd_df = pd.read_excel(\"all_merged.xlsx\")\n",
        "test_df = spark.createDataFrame(test_pd_df)\n",
        "test_df.printSchema()\n",
        "#test_df.show(5)\n",
        "#num_lines = test_df.count()\n",
        "#print(num_lines)\n"
      ],
      "execution_count": 0,
      "outputs": []
    },
    {
      "cell_type": "code",
      "metadata": {
        "id": "BudYraHQogjH",
        "colab_type": "code",
        "colab": {}
      },
      "source": [
        "import datetime\n",
        "from pyspark.sql.functions import year, month, dayofmonth, col\n",
        "'''\n",
        "test_df.select(\n",
        "    year(\"date\").alias('year'), \n",
        "    month(\"date\").alias('month'), \n",
        "    dayofmonth(\"date\").alias('day')\n",
        ").show()\n",
        "'''"
      ],
      "execution_count": 0,
      "outputs": []
    },
    {
      "cell_type": "code",
      "metadata": {
        "id": "lt91GMlepKiz",
        "colab_type": "code",
        "colab": {}
      },
      "source": [
        "#test_df.where((year(\"date\").alias('year') == '2018') & (col('location') == 'NoviSad')).show()\n",
        "#test_df.filter(year('date') == '2013').show()\n",
        "test_df.printSchema()\n",
        "\n",
        "row_num = test_df.count() \n",
        "col_num = len(test_df.columns)\n",
        "print(\"Number of rows is \", row_num, \", Number of columns is \", col_num)\n",
        "\n",
        "test_df.describe('prec').show() #General statistics over column\n",
        "test_df.select(col('location'), col('prec'), col('date')).where(col('prec') > 70).show()\n",
        "test_df.select(col('location'), col('prec'), col('date')).where((col('prec') > 0) & (col('prec') < 2)).show()\n",
        "\n",
        "#extract dataframe subset based on year or location\n",
        "location = 'Valjevo'\n",
        "df_location = test_df.filter(col('location') == location)\n",
        "print(\"DataFrame subset for location \", location)\n",
        "df_location.show()\n",
        "target_year = '2014'\n",
        "df_year = test_df.filter(year('date') == target_year)\n",
        "print(\"DataFrame subset for year \", target_year)\n",
        "df_year.show()"
      ],
      "execution_count": 0,
      "outputs": []
    },
    {
      "cell_type": "code",
      "metadata": {
        "id": "HPQXwbc0fS-o",
        "colab_type": "code",
        "colab": {}
      },
      "source": [
        "#udf function example\n",
        "from pyspark.sql.types import FloatType, StringType\n",
        "from pyspark.sql.functions import udf\n",
        "def square_float(x):\n",
        "    return float(x**2)\n",
        "\n",
        "square_udf_float2 = udf(lambda z: square_float(z), FloatType())\n",
        "\n",
        "test_df.select('prec', square_udf_float2('prec').alias('prec_squared')).show()\n"
      ],
      "execution_count": 0,
      "outputs": []
    },
    {
      "cell_type": "code",
      "metadata": {
        "id": "EoWwvwE3gmf-",
        "colab_type": "code",
        "colab": {}
      },
      "source": [
        "#control flow in udf example\n",
        "def ctrl_flow(x):\n",
        "  if x<1:\n",
        "    return \"low prec\"\n",
        "  elif x<10:\n",
        "    return \"medium prec\"\n",
        "  else:\n",
        "    return \"high prec\"\n",
        "\n",
        "prec_measure_flag = udf(ctrl_flow, StringType())\n",
        "new_df = test_df.withColumn(\"prec_flag\", prec_measure_flag(test_df.prec))   \n",
        "new_df.select(col('date'), col('location'), col('prec'), col('prec_flag')).show() \n",
        "\n",
        "#number of days with low precipitation\n",
        "num = new_df.filter(col('prec_flag') == 'low prec').count()\n",
        "print(\"Overall number of days with low precipitation \", num)"
      ],
      "execution_count": 0,
      "outputs": []
    },
    {
      "cell_type": "code",
      "metadata": {
        "id": "vSp6fwEoYL3F",
        "colab_type": "code",
        "colab": {}
      },
      "source": [
        "#precipitation sum over single year for specific location\n",
        "target_year = 2011\n",
        "df_subset_year = test_df.filter(year('date') == target_year)\n",
        "location = 'Kopaonik'\n",
        "df_subs_2011_loc = df_subset_2011.filter(col('location') == location)\n",
        "\n",
        "prec_sum = df_subs_2011_loc.agg({\"prec\":\"sum\"}).collect()[0]\n",
        "\n",
        "result = prec_sum[\"sum(prec)\"]\n",
        "print(\"Precipitation sum over year \", target_year, \" for location \", location, \" is \", result)\n"
      ],
      "execution_count": 0,
      "outputs": []
    },
    {
      "cell_type": "code",
      "metadata": {
        "id": "CI5qkcd_gAxX",
        "colab_type": "code",
        "colab": {}
      },
      "source": [
        "#control flow with for loop example\n",
        "locations = ['Beograd', 'Kikinda', 'Kopaonik', 'Valjevo']\n",
        "for loc in locations:\n",
        "    target_year = 2011\n",
        "    df_subset_year = test_df.filter(year('date') == target_year)\n",
        "    location = loc\n",
        "    df_subs_2011_loc = df_subset_2011.filter(col('location') == location)\n",
        "\n",
        "    prec_sum = df_subs_2011_loc.agg({\"prec\":\"sum\"}).collect()[0]\n",
        "\n",
        "    result = prec_sum[\"sum(prec)\"]\n",
        "    print(\"Precipitation sum over year \", target_year, \" for location \", location, \" is \", result)"
      ],
      "execution_count": 0,
      "outputs": []
    },
    {
      "cell_type": "code",
      "metadata": {
        "id": "Ar3qeqBeh1ku",
        "colab_type": "code",
        "colab": {}
      },
      "source": [
        "# kMeans clustering\n",
        "from pyspark.ml.feature import VectorAssembler\n",
        "from pyspark.ml.clustering import KMeans\n",
        "from pyspark.sql.functions import year, month, dayofmonth, col\n",
        "import pandas as pd\n",
        "import matplotlib.pyplot as plt\n",
        "\n",
        "\n",
        "df_subs_year = test_df.filter(year('date') == 2014)\n",
        "vecAssembler = VectorAssembler(inputCols=['rad', 'tmax', 'tmin', 't_mean', 'td2m', 'evap', 'sml1', 'prec', 'vpd'], outputCol=\"features\")\n",
        "new_df = vecAssembler.transform(df_subs_year)\n",
        "#new_df.show()\n",
        "kmeans = KMeans(k=5, seed=1)  # 2 clusters here\n",
        "model = kmeans.fit(new_df.select('features'))\n",
        "transformed = model.transform(new_df)\n",
        "\n",
        "#transformed dataframe with clustering result save in panda\n",
        "panda_kmeans_res = transformed.select(col('date'), col('location'), col('prediction')).toPandas()\n",
        "stations = pd.read_excel('Serbia_stations3.xlsx')\n",
        "#stations.head(5)\n",
        "merge = pd.merge(panda_kmeans_res, stations, on='location')\n",
        "#merge.head(5)\n",
        "\n",
        "\n",
        "\n"
      ],
      "execution_count": 0,
      "outputs": []
    },
    {
      "cell_type": "code",
      "metadata": {
        "id": "mBim2e_2nW2O",
        "colab_type": "code",
        "colab": {}
      },
      "source": [
        "import seaborn as sns\n",
        "sns.set()\n",
        "#plot data with seaborn\n",
        "facet = sns.lmplot(data=merge, x='lon', y='lat', hue='prediction', \n",
        "                   fit_reg=False, legend=True, legend_out=True)\n"
      ],
      "execution_count": 0,
      "outputs": []
    },
    {
      "cell_type": "code",
      "metadata": {
        "id": "UdycbgW7p5QR",
        "colab_type": "code",
        "colab": {}
      },
      "source": [
        "#time-series plot, minimum daily temperatures for specific location\n",
        "from pyspark.sql.functions import year, month, dayofmonth, col\n",
        "import pandas as pd\n",
        "import matplotlib.pyplot as plt\n",
        "\n",
        "\n",
        "df_subs = test_df.select(col('date'), col('tmin'), col('location'))\n",
        "loc = 'Valjevo'\n",
        "df_subs_loc = df_subs.filter(col('location') == loc).toPandas()\n",
        "#df_subs_loc.dtypes\n",
        "df_subs_loc.set_index('date').plot()\n",
        "\n"
      ],
      "execution_count": 0,
      "outputs": []
    },
    {
      "cell_type": "code",
      "metadata": {
        "id": "xTqsvNJEi5Pz",
        "colab_type": "code",
        "colab": {}
      },
      "source": [
        "#data aggregation using PySpark\n",
        "import pyspark.sql.functions as fn\n",
        "\n",
        "test_df.cache()\\\n",
        ".filter(fn.col('location') == 'Valjevo')\\\n",
        ".filter(fn.year('date') == '2014')\\\n",
        ".groupby(fn.month('date'))\\\n",
        ".agg(fn.mean('prec').alias('avg_prec'), fn.mean('tmin').alias('avg_tmin'))\\\n",
        ".orderBy(fn.month('date'))\\\n",
        ".show()\n"
      ],
      "execution_count": 0,
      "outputs": []
    },
    {
      "cell_type": "code",
      "metadata": {
        "id": "nMcR1vISsG7r",
        "colab_type": "code",
        "colab": {}
      },
      "source": [
        "#ranking\n",
        "from pyspark.sql import Window\n",
        "import pyspark.sql.functions as fn\n",
        "\n",
        "test_df.select('date', 'location', 'tmax', fn.rank().over(Window.orderBy(fn.desc('tmax'))).alias('tmaxrank')).show()\n"
      ],
      "execution_count": 0,
      "outputs": []
    }
  ]
}