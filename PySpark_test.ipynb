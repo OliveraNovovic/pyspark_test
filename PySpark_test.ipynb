{
  "nbformat": 4,
  "nbformat_minor": 0,
  "metadata": {
    "colab": {
      "name": "PySpark_test.ipynb",
      "provenance": [],
      "include_colab_link": true
    },
    "kernelspec": {
      "name": "python3",
      "display_name": "Python 3"
    }
  },
  "cells": [
    {
      "cell_type": "markdown",
      "metadata": {
        "id": "view-in-github",
        "colab_type": "text"
      },
      "source": [
        "<a href=\"https://colab.research.google.com/github/OliveraNovovic/pyspark_test/blob/master/PySpark_test.ipynb\" target=\"_parent\"><img src=\"https://colab.research.google.com/assets/colab-badge.svg\" alt=\"Open In Colab\"/></a>"
      ]
    },
    {
      "cell_type": "code",
      "metadata": {
        "id": "-bnE96rgAOjU",
        "colab_type": "code",
        "colab": {}
      },
      "source": [
        "!apt-get install openjdk-8-jdk-headless -qq > /dev/null\n",
        "!wget -q https://www-eu.apache.org/dist/spark/spark-2.4.4/spark-2.4.4-bin-hadoop2.7.tgz\n",
        "!tar xf spark-2.4.4-bin-hadoop2.7.tgz\n",
        "!pip install -q findspark"
      ],
      "execution_count": 0,
      "outputs": []
    },
    {
      "cell_type": "code",
      "metadata": {
        "id": "UvBCQapMB9XC",
        "colab_type": "code",
        "colab": {}
      },
      "source": [
        "import os\n",
        "os.environ[\"JAVA_HOME\"] = \"/usr/lib/jvm/java-8-openjdk-amd64\"\n",
        "os.environ[\"SPARK_HOME\"] = \"/content/spark-2.4.4-bin-hadoop2.7\""
      ],
      "execution_count": 0,
      "outputs": []
    },
    {
      "cell_type": "code",
      "metadata": {
        "id": "KaDMTacsCKQs",
        "colab_type": "code",
        "colab": {}
      },
      "source": [
        "import findspark\n",
        "findspark.init()\n",
        "from pyspark.sql import SparkSession\n",
        "spark = SparkSession.builder.master(\"local[*]\").getOrCreate()"
      ],
      "execution_count": 0,
      "outputs": []
    },
    {
      "cell_type": "code",
      "metadata": {
        "id": "9pNkPf8dGb8d",
        "colab_type": "code",
        "colab": {}
      },
      "source": [
        "from google.colab import files\n",
        "files.upload()"
      ],
      "execution_count": 0,
      "outputs": []
    },
    {
      "cell_type": "code",
      "metadata": {
        "id": "XEZ-UA88l1Nj",
        "colab_type": "code",
        "colab": {}
      },
      "source": [
        "!ls\n"
      ],
      "execution_count": 0,
      "outputs": []
    },
    {
      "cell_type": "code",
      "metadata": {
        "id": "SeKXwOEFHcJ6",
        "colab_type": "code",
        "colab": {}
      },
      "source": [
        "import pandas as pd\n",
        "test_pd_df = pd.read_excel(\"all_merged.xlsx\")\n",
        "test_df = spark.createDataFrame(test_pd_df)\n",
        "#test_df.show(5)\n",
        "#num_lines = test_df.count()\n",
        "#print(num_lines)\n",
        "\n",
        "\n"
      ],
      "execution_count": 0,
      "outputs": []
    },
    {
      "cell_type": "code",
      "metadata": {
        "id": "BudYraHQogjH",
        "colab_type": "code",
        "colab": {}
      },
      "source": [
        "import datetime\n",
        "from pyspark.sql.functions import year, month, dayofmonth, col\n",
        "'''\n",
        "test_df.select(\n",
        "    year(\"date\").alias('year'), \n",
        "    month(\"date\").alias('month'), \n",
        "    dayofmonth(\"date\").alias('day')\n",
        ").show()\n",
        "'''"
      ],
      "execution_count": 0,
      "outputs": []
    },
    {
      "cell_type": "code",
      "metadata": {
        "id": "lt91GMlepKiz",
        "colab_type": "code",
        "colab": {}
      },
      "source": [
        "#test_df.where((year(\"date\").alias('year') == '2018') & (col('location') == 'NoviSad')).show()\n",
        "#test_df.filter(year('date') == '2013').show()\n",
        "test_df.printSchema()\n",
        "\n",
        "row_num = test_df.count() \n",
        "col_num = len(test_df.columns)\n",
        "print(\"Number of rows is \", row_num, \", Number of columns is \", col_num)\n",
        "\n",
        "test_df.describe('prec').show() #General statistics over column\n",
        "test_df.select(col('location'), col('prec'), col('date')).where(col('prec') > 70).show()\n",
        "test_df.select(col('location'), col('prec'), col('date')).where((col('prec') > 0) & (col('prec') < 2)).show()\n",
        "\n",
        "#extract dataframe subset based on year or location\n",
        "location = 'Valjevo'\n",
        "df_location = test_df.filter(col('location') == location)\n",
        "print(\"DataFrame subset for location \", location)\n",
        "df_location.show()\n",
        "target_year = '2014'\n",
        "df_year = test_df.filter(year('date') == target_year)\n",
        "print(\"DataFrame subset for year \", target_year)\n",
        "df_year.show()"
      ],
      "execution_count": 0,
      "outputs": []
    },
    {
      "cell_type": "code",
      "metadata": {
        "id": "HPQXwbc0fS-o",
        "colab_type": "code",
        "colab": {}
      },
      "source": [
        ""
      ],
      "execution_count": 0,
      "outputs": []
    }
  ]
}